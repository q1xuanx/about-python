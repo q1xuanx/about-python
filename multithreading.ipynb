{
 "cells": [
  {
   "cell_type": "code",
   "execution_count": 26,
   "metadata": {},
   "outputs": [
    {
     "name": "stdout",
     "output_type": "stream",
     "text": [
      "Finish time: 0.0010006427764892578\n"
     ]
    },
    {
     "name": "stdout",
     "output_type": "stream",
     "text": [
      " Number: 0  Letter: a \n",
      "\n",
      " Number: 1  Letter: b \n",
      "\n",
      " Letter: c \n",
      " Number: 2 \n",
      " Number: 3  Letter: d \n",
      "\n",
      " Number: 4  Letter: e \n",
      "\n"
     ]
    }
   ],
   "source": [
    "import threading\n",
    "import time \n",
    "\n",
    "def print_number(): \n",
    "    for i in range(5): \n",
    "        time.sleep(2)\n",
    "        print(f' Number: {i} ')\n",
    "\n",
    "def print_letter(): \n",
    "    for letter in 'abcde': \n",
    "        time.sleep(2)\n",
    "        print(f' Letter: {letter} ')\n",
    "\n",
    "\n",
    "thread_print_number = threading.Thread(target=print_number)\n",
    "thread_print_letter = threading.Thread(target=print_letter)\n",
    "'''\n",
    "    ------------\n",
    "                join ------------------\n",
    "    ------------\n",
    "'''\n",
    "execute_time = time.time()\n",
    "thread_print_number.start()\n",
    "thread_print_letter.start()\n",
    "\n",
    "# Join - Wait for thread complete\n",
    "# thread_print_number.join()\n",
    "# thread_print_letter.join()\n",
    "\n",
    "finish_time = time.time() - execute_time\n",
    "\n",
    "print(f'Finish time: {finish_time}')\n"
   ]
  },
  {
   "cell_type": "code",
   "execution_count": 3,
   "metadata": {},
   "outputs": [
    {
     "name": "stdout",
     "output_type": "stream",
     "text": [
      "Finish time: 0.06789398193359375\n"
     ]
    }
   ],
   "source": [
    "import multiprocessing\n",
    "import time\n",
    "\n",
    "def squre_number():\n",
    "    for i in range(5):\n",
    "        time.sleep(1)\n",
    "        squre = i * i\n",
    "        print(f'Squre: {squre}')\n",
    "\n",
    "def cube_number():\n",
    "    for i in range(5):\n",
    "        time.sleep(1.5)\n",
    "        cube = i * i * i\n",
    "        print(f'Squre: {cube}')\n",
    "\n",
    "# Luu y nen doi thanh file .py de chay process\n",
    "if __name__ == '__main__':\n",
    "    process_square = multiprocessing.Process(target=squre_number)\n",
    "    process_cube = multiprocessing.Process(target=cube_number)\n",
    "    execute_time = time.time()\n",
    "    \n",
    "    process_square.start()\n",
    "    process_cube.start()\n",
    "\n",
    "    #Wait for process complete\n",
    "    process_square.join()\n",
    "    process_cube.join()\n",
    "    finish_time = time.time() - execute_time\n",
    "\n",
    "    print(f'Finish time: {finish_time}')\n",
    "\n"
   ]
  }
 ],
 "metadata": {
  "kernelspec": {
   "display_name": ".venv",
   "language": "python",
   "name": "python3"
  },
  "language_info": {
   "codemirror_mode": {
    "name": "ipython",
    "version": 3
   },
   "file_extension": ".py",
   "mimetype": "text/x-python",
   "name": "python",
   "nbconvert_exporter": "python",
   "pygments_lexer": "ipython3",
   "version": "3.10.11"
  }
 },
 "nbformat": 4,
 "nbformat_minor": 2
}
