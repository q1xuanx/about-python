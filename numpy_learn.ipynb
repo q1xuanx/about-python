{
 "cells": [
  {
   "cell_type": "code",
   "execution_count": 1,
   "metadata": {},
   "outputs": [
    {
     "name": "stdout",
     "output_type": "stream",
     "text": [
      "Requirement already satisfied: numpy in c:\\users\\admin\\desktop\\py-test\\.venv\\lib\\site-packages (2.2.6)\n",
      "Note: you may need to restart the kernel to use updated packages.\n"
     ]
    }
   ],
   "source": [
    "pip install numpy"
   ]
  },
  {
   "cell_type": "code",
   "execution_count": 28,
   "metadata": {},
   "outputs": [
    {
     "data": {
      "text/plain": [
       "array([[ 0],\n",
       "       [ 2],\n",
       "       [ 4],\n",
       "       [ 6],\n",
       "       [ 8],\n",
       "       [10],\n",
       "       [12],\n",
       "       [14],\n",
       "       [16],\n",
       "       [18]])"
      ]
     },
     "execution_count": 28,
     "metadata": {},
     "output_type": "execute_result"
    }
   ],
   "source": [
    "import numpy as np\n",
    "\n",
    "# Create 1D array\n",
    "array = np.array([[1,2,3,4,6,7,8,10]])\n",
    "# array_2 = np.array([[1,2,3,4,6,7,8,10], [1,2,3,4,6,7,8,10]])\n",
    "# array_3 = array + array_2\n",
    "\n",
    "# print(array_3)\n",
    "\n",
    "np.arange(\n",
    "    start=0,\n",
    "    stop=20, # Stop là điều kiện dừng khi tiếng hành tạo mảng với star < stop, step là bước nhảy khi tạo mảng start += step\n",
    "    step=2\n",
    ").reshape(10,1) # Số 10 phải khớp với số phần tử được tạo ra ví dụ 10 phần tử thì shape = 10"
   ]
  },
  {
   "cell_type": "code",
   "execution_count": 26,
   "metadata": {},
   "outputs": [
    {
     "data": {
      "text/plain": [
       "array([[1., 1., 1., 1.],\n",
       "       [1., 1., 1., 1.],\n",
       "       [1., 1., 1., 1.]])"
      ]
     },
     "execution_count": 26,
     "metadata": {},
     "output_type": "execute_result"
    }
   ],
   "source": [
    "np.ones((3,4)) # Khởi tạo 3 hàng 4 cột với các phần tử trong mảng bằng 1"
   ]
  },
  {
   "cell_type": "code",
   "execution_count": 21,
   "metadata": {},
   "outputs": [
    {
     "data": {
      "text/plain": [
       "array([[1., 0., 0., 0.],\n",
       "       [0., 1., 0., 0.],\n",
       "       [0., 0., 1., 0.],\n",
       "       [0., 0., 0., 1.]])"
      ]
     },
     "execution_count": 21,
     "metadata": {},
     "output_type": "execute_result"
    }
   ],
   "source": [
    "np.eye(N=4) # Khởi tạo ma trận đơn vị"
   ]
  },
  {
   "cell_type": "code",
   "execution_count": 30,
   "metadata": {},
   "outputs": [
    {
     "name": "stdout",
     "output_type": "stream",
     "text": [
      "Array: [[ 1  2  3  4  6  7  8 10]]\n",
      "Shape: (1, 8)\n",
      "Number of dimensions: 2\n",
      "Array size: 8\n",
      "Data type: int64\n",
      "Device used: cpu\n",
      "Item size: 8\n"
     ]
    }
   ],
   "source": [
    "print(f'Array: {array}')\n",
    "print(f'Shape: {array.shape}') # Size of dimension\n",
    "print(f'Number of dimensions: {array.ndim}') # 2D \n",
    "print(f'Array size: {array.size}') # 8x8\n",
    "print(f'Data type: {array.dtype}')\n",
    "print(f'Device used: {array.device}')\n",
    "print(f'Item size: {array.itemsize}')"
   ]
  },
  {
   "cell_type": "code",
   "execution_count": 41,
   "metadata": {},
   "outputs": [
    {
     "name": "stdout",
     "output_type": "stream",
     "text": [
      "Addtional: [11 13 15 17 19]\n",
      "Substraction: [-9 -9 -9 -9 -9]\n",
      "Multiplication: [10 22 36 52 70]\n",
      "Division: [0.1        0.18181818 0.25       0.30769231 0.35714286]\n"
     ]
    }
   ],
   "source": [
    "# Vectorize array\n",
    "\n",
    "arr_1 = np.array([1,2,3,4,5])\n",
    "arr_2 = np.array([10,11,12,13,14])\n",
    "\n",
    "print(f'Addtional: {arr_1 + arr_2}')\n",
    "print(f'Substraction: {arr_1 - arr_2}')\n",
    "print(f'Multiplication: {arr_1 * arr_2}')\n",
    "print(f'Division: {arr_1 / arr_2}')"
   ]
  },
  {
   "cell_type": "code",
   "execution_count": 43,
   "metadata": {},
   "outputs": [
    {
     "name": "stdout",
     "output_type": "stream",
     "text": [
      "(5,)\n",
      "[1.         1.41421356 1.73205081 2.         2.23606798]\n",
      "[  2.71828183   7.3890561   20.08553692  54.59815003 148.4131591 ]\n",
      "[ 0.84147098  0.90929743  0.14112001 -0.7568025  -0.95892427]\n"
     ]
    }
   ],
   "source": [
    "print(arr_1.shape)\n",
    "print(np.sqrt(arr_1))\n",
    "print(np.exp(arr_1)) # e^x e = euler constant = 2.71828183, x = value in array\n",
    "print(np.sin(arr_1))\n",
    "#print(np.exp(arr_1))"
   ]
  },
  {
   "cell_type": "code",
   "execution_count": 54,
   "metadata": {},
   "outputs": [
    {
     "name": "stdout",
     "output_type": "stream",
     "text": [
      "[[7 8 9]\n",
      " [4 5 6]\n",
      " [1 2 3]]\n",
      "[[3 2 1]\n",
      " [6 5 4]\n",
      " [9 8 7]]\n",
      "[[9 8 7]\n",
      " [6 5 4]\n",
      " [3 2 1]]\n"
     ]
    },
    {
     "data": {
      "text/plain": [
       "array([[100,   2,   3],\n",
       "       [  4,   5,   6],\n",
       "       [  7,   8,   9]])"
      ]
     },
     "execution_count": 54,
     "metadata": {},
     "output_type": "execute_result"
    }
   ],
   "source": [
    "arr_1 = np.array([[1,2,3],[4,5,6],[7,8,9]])\n",
    "\n",
    "print(arr_1[::-1])\n",
    "\n",
    "print(arr_1[:,::-1]) # arr_1[<dòng>, <cột>]\n",
    "\n",
    "print(arr_1[::-1,::-1]) # arr_1[<dòng>, <cột>]\n",
    "\n",
    "arr_1[0,0]=100\n",
    "\n",
    "arr_1\n",
    "\n"
   ]
  },
  {
   "cell_type": "code",
   "execution_count": 59,
   "metadata": {},
   "outputs": [
    {
     "name": "stdout",
     "output_type": "stream",
     "text": [
      "3.0 - 1.4142135623730951\n",
      "[-1.41421356 -0.70710678  0.          0.70710678  1.41421356]\n",
      "3.0\n",
      "2.0\n"
     ]
    }
   ],
   "source": [
    "data = np.array([1,2,3,4,5])\n",
    "\n",
    "mean = np.mean(data) # Lấy trung bình các phần tử trong mảng\n",
    "std_dev = np.std(data) # Độ lệch chuẩn\n",
    "print(f'{mean} - {std_dev}')\n",
    "\n",
    "normalize_data = (data - mean) / std_dev\n",
    "print(normalize_data)\n",
    "print(np.median(data)) # Lấy giá trị ở giữa sau khi dãy được sắp xếp tăng dần\n",
    "print(np.var(data)) # Phương sai với công thức ((1 - 3)^2) + (2 - 3)^2 + (3-3)^2 + (4 - 3)^2 + (5 - 3) ^ 2) / 5\n",
    "                    # 5 = n\n",
    "                    # 1,2,3,4,5 = ni\n",
    "                    # 3 = mean "
   ]
  },
  {
   "cell_type": "code",
   "execution_count": 67,
   "metadata": {},
   "outputs": [
    {
     "data": {
      "text/plain": [
       "array([3, 4])"
      ]
     },
     "execution_count": 67,
     "metadata": {},
     "output_type": "execute_result"
    }
   ],
   "source": [
    "data = np.array([1,2,3,4,5])\n",
    "data[(data > 2) & (data <= 4)]"
   ]
  }
 ],
 "metadata": {
  "kernelspec": {
   "display_name": ".venv",
   "language": "python",
   "name": "python3"
  },
  "language_info": {
   "codemirror_mode": {
    "name": "ipython",
    "version": 3
   },
   "file_extension": ".py",
   "mimetype": "text/x-python",
   "name": "python",
   "nbconvert_exporter": "python",
   "pygments_lexer": "ipython3",
   "version": "3.10.11"
  }
 },
 "nbformat": 4,
 "nbformat_minor": 2
}
